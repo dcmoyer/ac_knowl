{
 "cells": [
  {
   "cell_type": "code",
   "execution_count": 1,
   "metadata": {},
   "outputs": [],
   "source": [
    "import pandas as pd\n",
    "import urllib\n",
    "import requests\n",
    "import re\n",
    "import glob\n",
    "import json"
   ]
  },
  {
   "cell_type": "markdown",
   "metadata": {},
   "source": [
    "# Get the pubmed papers"
   ]
  },
  {
   "cell_type": "code",
   "execution_count": 2,
   "metadata": {},
   "outputs": [
    {
     "name": "stderr",
     "output_type": "stream",
     "text": [
      "/home/riddleta/ac_knowl/ac_knowl/lib/python3.7/site-packages/ipykernel_launcher.py:2: FutureWarning: read_table is deprecated, use read_csv instead.\n",
      "  \n"
     ]
    },
    {
     "data": {
      "text/plain": [
       "(598386, 4)"
      ]
     },
     "execution_count": 2,
     "metadata": {},
     "output_type": "execute_result"
    }
   ],
   "source": [
    "#bioc-pmc files\n",
    "files_to_get = pd.read_table('/home/riddleta/ac_knowl/data/filelist.txt', sep='\\s+')\n",
    "files_to_get.shape"
   ]
  },
  {
   "cell_type": "code",
   "execution_count": 3,
   "metadata": {},
   "outputs": [
    {
     "data": {
      "text/plain": [
       "(1479862, 5)"
      ]
     },
     "execution_count": 3,
     "metadata": {},
     "output_type": "execute_result"
    }
   ],
   "source": [
    "oa_comm_use_files = pd.read_csv('/home/riddleta/ac_knowl/data/oa_comm_use_file_list.txt', \n",
    "                                sep='\\\\t', engine='python', header=None, skiprows=1)\n",
    "oa_comm_use_files.columns = ['File', 'ref', 'PMCID', 'PMID', 'license']\n",
    "oa_comm_use_files.shape"
   ]
  },
  {
   "cell_type": "code",
   "execution_count": 4,
   "metadata": {},
   "outputs": [
    {
     "name": "stderr",
     "output_type": "stream",
     "text": [
      "/home/riddleta/ac_knowl/ac_knowl/lib/python3.7/site-packages/ipykernel_launcher.py:2: FutureWarning: read_table is deprecated, use read_csv instead.\n",
      "  \n"
     ]
    },
    {
     "data": {
      "text/plain": [
       "(2408932, 5)"
      ]
     },
     "execution_count": 4,
     "metadata": {},
     "output_type": "execute_result"
    }
   ],
   "source": [
    "oa_files = pd.read_table('/home/riddleta/ac_knowl/data/oa_file_list.txt', \n",
    "                         sep='\\\\t', engine='python', header=None, skiprows=1)\n",
    "oa_files.columns = ['File', 'ref', 'PMCID', 'PMID', 'license']\n",
    "oa_files.shape"
   ]
  },
  {
   "cell_type": "code",
   "execution_count": 5,
   "metadata": {},
   "outputs": [],
   "source": [
    "unique_ids = pd.concat([oa_files['PMCID'], oa_comm_use_files['PMCID'], files_to_get['PMCID']]).unique()"
   ]
  },
  {
   "cell_type": "markdown",
   "metadata": {},
   "source": [
    "## Main function to return data from fulltext search"
   ]
  },
  {
   "cell_type": "code",
   "execution_count": 6,
   "metadata": {},
   "outputs": [],
   "source": [
    "def return_useful_data(r):\n",
    "    git_hits = 0\n",
    "    osf_hits = 0\n",
    "    nda_hits = 0\n",
    "    open_neuro = 0\n",
    "    fmri = 0\n",
    "    res = 0\n",
    "    r_out = r.json()\n",
    "    date = r_out['date']\n",
    "    src = r_out['source']\n",
    "    try:\n",
    "        doi = r_out['documents'][0]['passages'][0]['infons']['article-id_doi']\n",
    "    except:\n",
    "        doi = None\n",
    "    try:\n",
    "        yr = r_out['documents'][0]['passages'][0]['infons']['year']\n",
    "    except:\n",
    "        yr = None\n",
    "    if yr not in ['2008', '2009', '2010', '2011', '2012', '2013', \n",
    "                  '2014', '2015', '2016', '2017', '2018', '2019']:\n",
    "        return(date, src, doi, git_hits, osf_hits, nda_hits, open_neuro, fmri, res, yr)\n",
    "    else:\n",
    "        for passage in r_out['documents'][0]['passages']:\n",
    "            if re.search(re.compile('github'), passage['text'].lower()):\n",
    "                git_hits = git_hits + 1\n",
    "            if re.search(re.compile('osf\\.io'), passage['text'].lower()):\n",
    "                osf_hits = osf_hits + 1\n",
    "            if re.search(re.compile('nda\\.nih\\.gov'), passage['text'].lower()):\n",
    "                nda_hits = nda_hits + 1\n",
    "            if re.search(re.compile('openneuro'), passage['text'].lower()):\n",
    "                open_neuro = open_neuro + 1\n",
    "            if re.search(re.compile('fmri'), passage['text'].lower()):\n",
    "                fmri = fmri + 1\n",
    "            if re.search(re.compile('results'), passage['text'].lower()):\n",
    "                res = res + 1\n",
    "        \n",
    "        return(date, src, doi, git_hits, osf_hits, nda_hits, open_neuro, fmri, res, yr)"
   ]
  },
  {
   "cell_type": "markdown",
   "metadata": {},
   "source": [
    "## loop to get everything\n",
    "realistically, this took about two weeks. I ran this in small batches and saved the files iteratively. The second code block gives an example. There ended up being 168 papers that we couldn't retrieve."
   ]
  },
  {
   "cell_type": "code",
   "execution_count": null,
   "metadata": {},
   "outputs": [],
   "source": [
    "#git_links = []\n",
    "#missed = []\n",
    "\n",
    "#for i, j in enumerate(unique_ids):\n",
    "#    pth = 'https://www.ncbi.nlm.nih.gov/research/bionlp/RESTful/pmcoa.cgi/BioC_json/' + j + '/unicode'\n",
    "#    try:\n",
    "#        r = requests.get(pth)\n",
    "#        git_links.append(return_useful_data(r) + (j, i))\n",
    "#    except:\n",
    "#        missed.append([i,j])\n",
    "\n",
    "#df = pd.DataFrame(git_links, columns=['date', 'src', 'doi', 'git_hits', \n",
    "#                                      'osf_hits', 'nda_hits', 'open_neuro', \n",
    "#                                      'fmri', 'res', 'yr', 'pmcid', 'idx'])\n",
    "#df.to_csv('/home/riddleta/ac_knowl/output/bionlp_03.csv')"
   ]
  },
  {
   "cell_type": "code",
   "execution_count": null,
   "metadata": {},
   "outputs": [],
   "source": [
    "# like this:\n",
    "\n",
    "#git_links = []\n",
    "#missed = []\n",
    "#progress = [i for i in range(0, 15000, 2500)]\n",
    "\n",
    "#for i, j in enumerate(unique_ids[625000:]):\n",
    "#    if i in progress:\n",
    "#        print(i)\n",
    "#    pth = 'https://www.ncbi.nlm.nih.gov/research/bionlp/RESTful/pmcoa.cgi/BioC_json/' + j + '/unicode'\n",
    "#    try:\n",
    "#        r = requests.get(pth)\n",
    "#        git_links.append(return_useful_data(r) + (j, i))\n",
    "#    except:\n",
    "#        missed.append([i,j])\n",
    "#    if i==15000:\n",
    "#        break"
   ]
  },
  {
   "cell_type": "markdown",
   "metadata": {},
   "source": [
    "## target the subset of papers I want for a full text download"
   ]
  },
  {
   "cell_type": "code",
   "execution_count": 7,
   "metadata": {},
   "outputs": [
    {
     "name": "stderr",
     "output_type": "stream",
     "text": [
      "/home/riddleta/ac_knowl/ac_knowl/lib/python3.7/site-packages/IPython/core/interactiveshell.py:3049: DtypeWarning: Columns (10) have mixed types. Specify dtype option on import or set low_memory=False.\n",
      "  interactivity=interactivity, compiler=compiler, result=result)\n"
     ]
    }
   ],
   "source": [
    "files = glob.glob('/home/riddleta/ac_knowl/output/bio*.csv')\n",
    "file_list = []\n",
    "for filename in files:\n",
    "    df = pd.read_csv(filename, index_col=None, header=0)\n",
    "    file_list.append(df)\n",
    "\n",
    "frame = pd.concat(file_list, axis=0, ignore_index=True)"
   ]
  },
  {
   "cell_type": "markdown",
   "metadata": {},
   "source": [
    "### Some of the years were formatted incorrectly or missed entirely. This resolves that."
   ]
  },
  {
   "cell_type": "code",
   "execution_count": 8,
   "metadata": {},
   "outputs": [],
   "source": [
    "frame['yr_fixed'] = frame['yr'].replace({'2016;':'2016'})"
   ]
  },
  {
   "cell_type": "code",
   "execution_count": 9,
   "metadata": {},
   "outputs": [
    {
     "data": {
      "text/plain": [
       "28"
      ]
     },
     "execution_count": 9,
     "metadata": {},
     "output_type": "execute_result"
    }
   ],
   "source": [
    "pmids = frame[pd.isna(frame.yr_fixed)].pmcid.tolist()\n",
    "len(pmids)"
   ]
  },
  {
   "cell_type": "code",
   "execution_count": 10,
   "metadata": {},
   "outputs": [
    {
     "name": "stderr",
     "output_type": "stream",
     "text": [
      "/home/riddleta/ac_knowl/ac_knowl/lib/python3.7/site-packages/ipykernel_launcher.py:9: SettingWithCopyWarning: \n",
      "A value is trying to be set on a copy of a slice from a DataFrame\n",
      "\n",
      "See the caveats in the documentation: http://pandas.pydata.org/pandas-docs/stable/indexing.html#indexing-view-versus-copy\n",
      "  if __name__ == '__main__':\n"
     ]
    }
   ],
   "source": [
    "for pmid in pmids:\n",
    "    pth = 'https://www.ncbi.nlm.nih.gov/research/bionlp/RESTful/pmcoa.cgi/BioC_json/' + pmid + '/unicode'\n",
    "    r = requests.get(pth)\n",
    "    r_out = r.json()\n",
    "    for i in range(0, 5):\n",
    "        if 'year' in r_out['documents'][0]['passages'][i]['infons'].keys():\n",
    "            year = r_out['documents'][0]['passages'][i]['infons']['year']\n",
    "    \n",
    "    frame['yr_fixed'][frame.pmcid==pmid] = year\n",
    "            "
   ]
  },
  {
   "cell_type": "code",
   "execution_count": 11,
   "metadata": {},
   "outputs": [],
   "source": [
    "frame['yr_ints'] = frame.yr_fixed.astype(int)"
   ]
  },
  {
   "cell_type": "code",
   "execution_count": 12,
   "metadata": {},
   "outputs": [],
   "source": [
    "df_targets = frame[frame.yr_ints>2008]"
   ]
  },
  {
   "cell_type": "code",
   "execution_count": 13,
   "metadata": {},
   "outputs": [
    {
     "data": {
      "text/plain": [
       "(2600884, 15)"
      ]
     },
     "execution_count": 13,
     "metadata": {},
     "output_type": "execute_result"
    }
   ],
   "source": [
    "df_targets.shape"
   ]
  },
  {
   "cell_type": "code",
   "execution_count": 14,
   "metadata": {},
   "outputs": [],
   "source": [
    "def already_retrieved_papes(dirs):\n",
    "    pmcids = []\n",
    "    for d in dirs:\n",
    "\n",
    "        with open(d) as infile:\n",
    "            dat = json.load(infile)\n",
    "            for paper in dat:\n",
    "                pmcids.append(paper['documents'][0]['id'])\n",
    "    \n",
    "    return(['PMC'+i for i in pmcids])"
   ]
  },
  {
   "cell_type": "code",
   "execution_count": 15,
   "metadata": {},
   "outputs": [],
   "source": [
    "already_retrieved = glob.glob('/home/riddleta/ac_knowl/output/full_texts/papes*')\n",
    "\n",
    "gots = already_retrieved_papes(already_retrieved)"
   ]
  },
  {
   "cell_type": "code",
   "execution_count": 16,
   "metadata": {},
   "outputs": [
    {
     "data": {
      "text/plain": [
       "(791283, 15)"
      ]
     },
     "execution_count": 16,
     "metadata": {},
     "output_type": "execute_result"
    }
   ],
   "source": [
    "df_targets_sub = df_targets[~df_targets.pmcid.isin(gots)]\n",
    "df_targets_sub.shape"
   ]
  },
  {
   "cell_type": "code",
   "execution_count": 17,
   "metadata": {},
   "outputs": [],
   "source": [
    "file_writes = [i for i in range(1827500, 2700000, 2500)]\n"
   ]
  },
  {
   "cell_type": "code",
   "execution_count": null,
   "metadata": {},
   "outputs": [],
   "source": [
    "outdat = []\n",
    "missed = []\n",
    "for i, pmcid in enumerate(df_targets_sub.pmcid):\n",
    "    try:\n",
    "        pth = 'https://www.ncbi.nlm.nih.gov/research/bionlp/RESTful/pmcoa.cgi/BioC_json/' + pmcid + '/unicode'\n",
    "        r = requests.get(pth)\n",
    "        r_out = r.json()\n",
    "        outdat.append(r_out)\n",
    "    except:\n",
    "        missed.append(pmcid)\n",
    "    if i+1827500 in file_writes: \n",
    "        with open('/home/riddleta/ac_knowl/output/full_texts/papes_'+str(i+1827500)+'.txt', 'w') as fout:\n",
    "            json.dump(outdat, fout)\n",
    "        if len(missed)>0:\n",
    "            with open('/home/riddleta/ac_knowl/output/full_texts/misses_'+str(i+1827500)+'.txt', 'w') as f:\n",
    "                for item in missed:\n",
    "                    f.write(\"%s\\n\" % item)\n",
    "        outdat = []\n",
    "        missed = []\n"
   ]
  },
  {
   "cell_type": "code",
   "execution_count": 18,
   "metadata": {},
   "outputs": [],
   "source": [
    "with open('/home/riddleta/ac_knowl/output/full_texts/papes_7500.txt') as infile:\n",
    "    dat = json.load(infile)\n"
   ]
  },
  {
   "cell_type": "code",
   "execution_count": 19,
   "metadata": {},
   "outputs": [
    {
     "data": {
      "text/plain": [
       "dict_keys(['date', 'source', 'infons', 'documents', 'key'])"
      ]
     },
     "execution_count": 19,
     "metadata": {},
     "output_type": "execute_result"
    }
   ],
   "source": [
    "dat[0].keys()"
   ]
  },
  {
   "cell_type": "code",
   "execution_count": 15,
   "metadata": {},
   "outputs": [],
   "source": [
    "pmid = df_targets.pmcid.iloc[0]"
   ]
  },
  {
   "cell_type": "code",
   "execution_count": 16,
   "metadata": {},
   "outputs": [],
   "source": [
    "pth = 'https://www.ncbi.nlm.nih.gov/research/bionlp/RESTful/pmcoa.cgi/BioC_json/' + pmid + '/unicode'\n",
    "r = requests.get(pth)\n",
    "r_out = r.json()\n"
   ]
  },
  {
   "cell_type": "code",
   "execution_count": 20,
   "metadata": {},
   "outputs": [
    {
     "data": {
      "text/plain": [
       "'PMC5139083'"
      ]
     },
     "execution_count": 20,
     "metadata": {},
     "output_type": "execute_result"
    }
   ],
   "source": [
    "pmid"
   ]
  },
  {
   "cell_type": "code",
   "execution_count": 19,
   "metadata": {},
   "outputs": [
    {
     "data": {
      "text/plain": [
       "'5139083'"
      ]
     },
     "execution_count": 19,
     "metadata": {},
     "output_type": "execute_result"
    }
   ],
   "source": [
    "#r_out['documents'][0]['passages'][0]['infons']['year']\n",
    "r_out['documents'][0]['id']# that's the pmcid"
   ]
  },
  {
   "cell_type": "code",
   "execution_count": 69,
   "metadata": {},
   "outputs": [
    {
     "data": {
      "text/plain": [
       "1996      3558\n",
       "1994      3383\n",
       "1995      3292\n",
       "1993      3168\n",
       "1992      2730\n",
       "1991      2724\n",
       "1990      2675\n",
       "1989      2554\n",
       "2015      2220\n",
       "1988      2170\n",
       "1899      2120\n",
       "1983      2101\n",
       "1898      2083\n",
       "1910.0    2073\n",
       "1894      2069\n",
       "1982      2058\n",
       "1920.0    2036\n",
       "1902.0    2034\n",
       "1986      2026\n",
       "1987      2019\n",
       "1904      2004\n",
       "1985      1959\n",
       "1911      1959\n",
       "1984      1948\n",
       "1909.0    1942\n",
       "Name: yr_fixed, dtype: int64"
      ]
     },
     "execution_count": 69,
     "metadata": {},
     "output_type": "execute_result"
    }
   ],
   "source": [
    "yr_counts = frame.yr_fixed.value_counts()\n",
    "yr_counts.iloc[25:50]"
   ]
  },
  {
   "cell_type": "code",
   "execution_count": 47,
   "metadata": {},
   "outputs": [
    {
     "data": {
      "text/html": [
       "<div>\n",
       "<style scoped>\n",
       "    .dataframe tbody tr th:only-of-type {\n",
       "        vertical-align: middle;\n",
       "    }\n",
       "\n",
       "    .dataframe tbody tr th {\n",
       "        vertical-align: top;\n",
       "    }\n",
       "\n",
       "    .dataframe thead th {\n",
       "        text-align: right;\n",
       "    }\n",
       "</style>\n",
       "<table border=\"1\" class=\"dataframe\">\n",
       "  <thead>\n",
       "    <tr style=\"text-align: right;\">\n",
       "      <th></th>\n",
       "      <th>Unnamed: 0</th>\n",
       "      <th>date</th>\n",
       "      <th>src</th>\n",
       "      <th>doi</th>\n",
       "      <th>git_hits</th>\n",
       "      <th>osf_hits</th>\n",
       "      <th>nda_hits</th>\n",
       "      <th>open_neuro</th>\n",
       "      <th>fmri</th>\n",
       "      <th>res</th>\n",
       "      <th>yr</th>\n",
       "      <th>pmcid</th>\n",
       "      <th>idx</th>\n",
       "      <th>yr_stripped</th>\n",
       "    </tr>\n",
       "  </thead>\n",
       "  <tbody>\n",
       "    <tr>\n",
       "      <th>0</th>\n",
       "      <td>0</td>\n",
       "      <td>20181115</td>\n",
       "      <td>PMC</td>\n",
       "      <td>10.1186/s12969-016-0125-1</td>\n",
       "      <td>0</td>\n",
       "      <td>0</td>\n",
       "      <td>0</td>\n",
       "      <td>0</td>\n",
       "      <td>0</td>\n",
       "      <td>13</td>\n",
       "      <td>2016</td>\n",
       "      <td>PMC5139083</td>\n",
       "      <td>14</td>\n",
       "      <td>NaN</td>\n",
       "    </tr>\n",
       "    <tr>\n",
       "      <th>1</th>\n",
       "      <td>1</td>\n",
       "      <td>20190216</td>\n",
       "      <td>PMC</td>\n",
       "      <td>NaN</td>\n",
       "      <td>0</td>\n",
       "      <td>0</td>\n",
       "      <td>0</td>\n",
       "      <td>0</td>\n",
       "      <td>0</td>\n",
       "      <td>0</td>\n",
       "      <td>1881</td>\n",
       "      <td>PMC6038389</td>\n",
       "      <td>15</td>\n",
       "      <td>NaN</td>\n",
       "    </tr>\n",
       "    <tr>\n",
       "      <th>2</th>\n",
       "      <td>2</td>\n",
       "      <td>20181224</td>\n",
       "      <td>PMC</td>\n",
       "      <td>10.1167/iovs.09-3616</td>\n",
       "      <td>0</td>\n",
       "      <td>0</td>\n",
       "      <td>0</td>\n",
       "      <td>0</td>\n",
       "      <td>0</td>\n",
       "      <td>3</td>\n",
       "      <td>2013</td>\n",
       "      <td>PMC3766363</td>\n",
       "      <td>51</td>\n",
       "      <td>NaN</td>\n",
       "    </tr>\n",
       "    <tr>\n",
       "      <th>3</th>\n",
       "      <td>3</td>\n",
       "      <td>20181121</td>\n",
       "      <td>PMC</td>\n",
       "      <td>10.3390/s16060934</td>\n",
       "      <td>0</td>\n",
       "      <td>0</td>\n",
       "      <td>0</td>\n",
       "      <td>0</td>\n",
       "      <td>0</td>\n",
       "      <td>10</td>\n",
       "      <td>2016</td>\n",
       "      <td>PMC4934359</td>\n",
       "      <td>53</td>\n",
       "      <td>NaN</td>\n",
       "    </tr>\n",
       "    <tr>\n",
       "      <th>4</th>\n",
       "      <td>4</td>\n",
       "      <td>20181123</td>\n",
       "      <td>PMC</td>\n",
       "      <td>10.3389/fnhum.2016.00332</td>\n",
       "      <td>0</td>\n",
       "      <td>0</td>\n",
       "      <td>0</td>\n",
       "      <td>0</td>\n",
       "      <td>15</td>\n",
       "      <td>8</td>\n",
       "      <td>2016</td>\n",
       "      <td>PMC4923193</td>\n",
       "      <td>67</td>\n",
       "      <td>NaN</td>\n",
       "    </tr>\n",
       "  </tbody>\n",
       "</table>\n",
       "</div>"
      ],
      "text/plain": [
       "   Unnamed: 0      date  src                        doi  git_hits  osf_hits  \\\n",
       "0           0  20181115  PMC  10.1186/s12969-016-0125-1         0         0   \n",
       "1           1  20190216  PMC                        NaN         0         0   \n",
       "2           2  20181224  PMC       10.1167/iovs.09-3616         0         0   \n",
       "3           3  20181121  PMC          10.3390/s16060934         0         0   \n",
       "4           4  20181123  PMC   10.3389/fnhum.2016.00332         0         0   \n",
       "\n",
       "   nda_hits  open_neuro  fmri  res    yr       pmcid  idx yr_stripped  \n",
       "0         0           0     0   13  2016  PMC5139083   14         NaN  \n",
       "1         0           0     0    0  1881  PMC6038389   15         NaN  \n",
       "2         0           0     0    3  2013  PMC3766363   51         NaN  \n",
       "3         0           0     0   10  2016  PMC4934359   53         NaN  \n",
       "4         0           0    15    8  2016  PMC4923193   67         NaN  "
      ]
     },
     "execution_count": 47,
     "metadata": {},
     "output_type": "execute_result"
    }
   ],
   "source": [
    "frame['yr_stripped'] = frame['yr'].str.strip()\n",
    "\n",
    "frame.head()"
   ]
  },
  {
   "cell_type": "code",
   "execution_count": 24,
   "metadata": {},
   "outputs": [
    {
     "data": {
      "text/plain": [
       "2722935"
      ]
     },
     "execution_count": 24,
     "metadata": {},
     "output_type": "execute_result"
    }
   ],
   "source": [
    "len(frame.pmcid)"
   ]
  },
  {
   "cell_type": "code",
   "execution_count": 25,
   "metadata": {},
   "outputs": [
    {
     "data": {
      "text/plain": [
       "252087"
      ]
     },
     "execution_count": 25,
     "metadata": {},
     "output_type": "execute_result"
    }
   ],
   "source": [
    "len(unique_ids) - len(frame.pmcid)"
   ]
  },
  {
   "cell_type": "code",
   "execution_count": 14,
   "metadata": {},
   "outputs": [
    {
     "data": {
      "text/plain": [
       "pandas.core.series.Series"
      ]
     },
     "execution_count": 14,
     "metadata": {},
     "output_type": "execute_result"
    }
   ],
   "source": [
    "type(frame.pmcid)"
   ]
  },
  {
   "cell_type": "code",
   "execution_count": 24,
   "metadata": {},
   "outputs": [],
   "source": []
  },
  {
   "cell_type": "code",
   "execution_count": 25,
   "metadata": {},
   "outputs": [
    {
     "data": {
      "text/plain": [
       "454"
      ]
     },
     "execution_count": 25,
     "metadata": {},
     "output_type": "execute_result"
    }
   ],
   "source": [
    "len(missings)"
   ]
  },
  {
   "cell_type": "code",
   "execution_count": null,
   "metadata": {},
   "outputs": [],
   "source": []
  }
 ],
 "metadata": {
  "kernelspec": {
   "display_name": "ac_knowl",
   "language": "python",
   "name": "ac_knowl"
  },
  "language_info": {
   "codemirror_mode": {
    "name": "ipython",
    "version": 3
   },
   "file_extension": ".py",
   "mimetype": "text/x-python",
   "name": "python",
   "nbconvert_exporter": "python",
   "pygments_lexer": "ipython3",
   "version": "3.7.1"
  }
 },
 "nbformat": 4,
 "nbformat_minor": 2
}
